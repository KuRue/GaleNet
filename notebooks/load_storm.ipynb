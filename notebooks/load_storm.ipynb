{
 "cells": [
  {
   "cell_type": "markdown",
   "id": "9872fda2",
   "metadata": {},
   "source": [
    "## Load a Storm\n",
    "This tutorial demonstrates loading a hurricane track using `HURDAT2Loader`."
   ]
  },
  {
   "cell_type": "code",
   "execution_count": null,
   "id": "3880eacd",
   "metadata": {},
   "outputs": [],
   "source": [
    "from galenet.data import HURDAT2Loader\n",
    "\n",
    "loader = HURDAT2Loader()\n",
    "track = loader.get_storm(\"AL092019\")\n",
    "track.head()"
   ]
  }
 ],
 "metadata": {},
 "nbformat": 4,
 "nbformat_minor": 5
}