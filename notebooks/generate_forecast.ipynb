{
 "cells": [
  {
   "cell_type": "markdown",
   "id": "c221bc60",
   "metadata": {},
   "source": [
    "## Generate a Forecast\n",
    "This tutorial runs the `GaleNetPipeline` to produce a short forecast."
   ]
  },
  {
   "cell_type": "code",
   "execution_count": null,
   "id": "18c3cfd9",
   "metadata": {},
   "outputs": [],
   "source": [
    "from galenet import GaleNetPipeline\n",
    "\n",
    "pipeline = GaleNetPipeline(\"configs/default_config.yaml\")\n",
    "result = pipeline.forecast_storm(\"AL092019\", forecast_hours=24)\n",
    "result.track.head()"
   ]
  }
 ],
 "metadata": {},
 "nbformat": 4,
 "nbformat_minor": 5
}
